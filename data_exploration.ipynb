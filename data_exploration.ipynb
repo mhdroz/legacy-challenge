{
 "cells": [
  {
   "cell_type": "code",
   "execution_count": 1,
   "id": "6410c0c0",
   "metadata": {},
   "outputs": [],
   "source": [
    "import pandas as pd\n",
    "\n",
    "PATH_DATA = \"/Users/mariehumbertdroz/Documents/ai_tools/legacy-challenge/data/\""
   ]
  },
  {
   "cell_type": "code",
   "execution_count": 2,
   "id": "8c69299d",
   "metadata": {},
   "outputs": [
    {
     "data": {
      "text/html": [
       "<div>\n",
       "<style scoped>\n",
       "    .dataframe tbody tr th:only-of-type {\n",
       "        vertical-align: middle;\n",
       "    }\n",
       "\n",
       "    .dataframe tbody tr th {\n",
       "        vertical-align: top;\n",
       "    }\n",
       "\n",
       "    .dataframe thead th {\n",
       "        text-align: right;\n",
       "    }\n",
       "</style>\n",
       "<table border=\"1\" class=\"dataframe\">\n",
       "  <thead>\n",
       "    <tr style=\"text-align: right;\">\n",
       "      <th></th>\n",
       "      <th>User</th>\n",
       "      <th>Post</th>\n",
       "      <th>Label</th>\n",
       "    </tr>\n",
       "  </thead>\n",
       "  <tbody>\n",
       "    <tr>\n",
       "      <th>0</th>\n",
       "      <td>user-0</td>\n",
       "      <td>['Its not a viable option, and youll be leavin...</td>\n",
       "      <td>Supportive</td>\n",
       "    </tr>\n",
       "    <tr>\n",
       "      <th>1</th>\n",
       "      <td>user-1</td>\n",
       "      <td>['It can be hard to appreciate the notion that...</td>\n",
       "      <td>Ideation</td>\n",
       "    </tr>\n",
       "    <tr>\n",
       "      <th>2</th>\n",
       "      <td>user-2</td>\n",
       "      <td>['Hi, so last night i was sitting on the ledge...</td>\n",
       "      <td>Behavior</td>\n",
       "    </tr>\n",
       "    <tr>\n",
       "      <th>3</th>\n",
       "      <td>user-3</td>\n",
       "      <td>['I tried to kill my self once and failed badl...</td>\n",
       "      <td>Attempt</td>\n",
       "    </tr>\n",
       "    <tr>\n",
       "      <th>4</th>\n",
       "      <td>user-4</td>\n",
       "      <td>['Hi NEM3030. What sorts of things do you enjo...</td>\n",
       "      <td>Ideation</td>\n",
       "    </tr>\n",
       "  </tbody>\n",
       "</table>\n",
       "</div>"
      ],
      "text/plain": [
       "     User                                               Post       Label\n",
       "0  user-0  ['Its not a viable option, and youll be leavin...  Supportive\n",
       "1  user-1  ['It can be hard to appreciate the notion that...    Ideation\n",
       "2  user-2  ['Hi, so last night i was sitting on the ledge...    Behavior\n",
       "3  user-3  ['I tried to kill my self once and failed badl...     Attempt\n",
       "4  user-4  ['Hi NEM3030. What sorts of things do you enjo...    Ideation"
      ]
     },
     "execution_count": 2,
     "metadata": {},
     "output_type": "execute_result"
    }
   ],
   "source": [
    "df1 = pd.read_csv(PATH_DATA + \"500_Reddit_users_posts_labels.csv\")\n",
    "df1.head()"
   ]
  },
  {
   "cell_type": "code",
   "execution_count": 3,
   "id": "ac7eaf59",
   "metadata": {},
   "outputs": [
    {
     "data": {
      "text/plain": [
       "500"
      ]
     },
     "execution_count": 3,
     "metadata": {},
     "output_type": "execute_result"
    }
   ],
   "source": [
    "df1.User.nunique()"
   ]
  },
  {
   "cell_type": "code",
   "execution_count": 4,
   "id": "a5f2ec25",
   "metadata": {},
   "outputs": [
    {
     "data": {
      "text/plain": [
       "Label\n",
       "Ideation      171\n",
       "Supportive    108\n",
       "Indicator      99\n",
       "Behavior       77\n",
       "Attempt        45\n",
       "Name: count, dtype: int64"
      ]
     },
     "execution_count": 4,
     "metadata": {},
     "output_type": "execute_result"
    }
   ],
   "source": [
    "df1.Label.value_counts()"
   ]
  },
  {
   "cell_type": "code",
   "execution_count": 5,
   "id": "2b01bad5",
   "metadata": {},
   "outputs": [
    {
     "data": {
      "text/plain": [
       "\"['Its not a viable option, and youll be leaving your wife behind. Youd Pain her beyond comprehension.It sucks worrying about money, I know that first hand. It can definitely feel hopeless, as you seem to be Tired aware of. Your wife might need to chip in financially. I know time is an issue, but even 10-15 hours a Asthenia could alleviate a lot of the pressure. In the meantime, get your shit together - write that resume tomorrow. No excuses, get it done and send it out. Whether you believe in some sort of powerful being or force governing things or not, things really do work themselves out. This is a big test for you, and youll pull through. Just try to stay as positive as you can and everything will work out.']\""
      ]
     },
     "execution_count": 5,
     "metadata": {},
     "output_type": "execute_result"
    }
   ],
   "source": [
    "df1['Post'][0]\n",
    "# Need to remove these extra '[' and ']'"
   ]
  },
  {
   "cell_type": "code",
   "execution_count": 6,
   "id": "730f8d8d",
   "metadata": {},
   "outputs": [
    {
     "data": {
      "text/html": [
       "<div>\n",
       "<style scoped>\n",
       "    .dataframe tbody tr th:only-of-type {\n",
       "        vertical-align: middle;\n",
       "    }\n",
       "\n",
       "    .dataframe tbody tr th {\n",
       "        vertical-align: top;\n",
       "    }\n",
       "\n",
       "    .dataframe thead th {\n",
       "        text-align: right;\n",
       "    }\n",
       "</style>\n",
       "<table border=\"1\" class=\"dataframe\">\n",
       "  <thead>\n",
       "    <tr style=\"text-align: right;\">\n",
       "      <th></th>\n",
       "      <th>Suicidal deliberate poisoning</th>\n",
       "      <th>Suicide by self-administered drug</th>\n",
       "      <th>Suicide while incarcerated</th>\n",
       "      <th>Assisted Suicide</th>\n",
       "      <th>Suicide attempt by adequate means</th>\n",
       "      <th>Suicide attempt by inadequate means</th>\n",
       "      <th>Suicide suspected</th>\n",
       "      <th>Suicide by multiple means</th>\n",
       "      <th>Self-inflicted poisoning by solid and liquid substances</th>\n",
       "      <th>Suicide and self-inflicted poisoning by analgesics</th>\n",
       "      <th>...</th>\n",
       "      <th>Made a suicide attempt</th>\n",
       "      <th>Shooting</th>\n",
       "      <th>Set myself on fire</th>\n",
       "      <th>Blew myself up</th>\n",
       "      <th>Went out in the cold</th>\n",
       "      <th>Went in the freezer</th>\n",
       "      <th>Jumped from bridge</th>\n",
       "      <th>Jumped from roof.1</th>\n",
       "      <th>Bag around head</th>\n",
       "      <th>Belt around neck</th>\n",
       "    </tr>\n",
       "  </thead>\n",
       "  <tbody>\n",
       "  </tbody>\n",
       "</table>\n",
       "<p>0 rows × 124 columns</p>\n",
       "</div>"
      ],
      "text/plain": [
       "Empty DataFrame\n",
       "Columns: [Suicidal deliberate poisoning,  Suicide by self-administered drug,  Suicide while incarcerated,  Assisted Suicide,  Suicide attempt by adequate means,  Suicide attempt by inadequate means,  Suicide suspected,  Suicide by multiple means,  Self-inflicted poisoning by solid and liquid substances,  Suicide and self-inflicted poisoning by analgesics,  antipyretics and anti-rheumatics,  Suicide and self-inflicted poisoning by barbiturates,  Suicide and self-inflicted injury by Amylobarbitone,  Suicide and self-inflicted injury by Barbitone,  Suicide and self-inflicted injury by Butabarbitone,  Suicide and self-inflicted injury by Pentabarbitone,  Suicide and self-inflicted injury by Phenobarbitone,  Suicide and self-inflicted injury by Quinalbarbitone,  Suicide and self-inflicted poisoning by gases in domestic use,  Suicide and self-inflicted poisoning by gas distributed by pipeline,  Suicide and self-inflicted poisoning by liquefied petroleum gas distributed in mobile containers,  Suicide and self-inflicted injury by hanging,  Suicide and self-inflicted injury by strangulation and suffocation,  Suicide and self-inflicted injury by drowning,  Suicide or self-inflicted injury by firearms and explosives,  Suicide or self-inflicted injury by handgun,  Suicide or self-inflicted injury by shotgun,  Suicide or self-inflicted injury by hunting rifle,  Suicide or self-inflicted injury by military firearm,  Suicide or self-inflicted injury by cutting and stabbing,  Suicide or self-injury by jumping from a height,  Suicide and self-inflicted injury by jumping from residential premises,  Suicide and self-inflicted injury by jumping from natural sites,  Suicide and self-inflicted injury by jumping or lying before moving object,  Suicide or self-injury by burning or fire,  Suicide or self-injury by scalding,  Suicide or self-injury by exposure to cold,  Suicide or self-injury by electric current,  Suicide or self-inflicted injury by crashing motor vehicle,  Suicide or self-inflicted injury by crashing of aircraft,  Suicide and self-inflicted injury by caustic substances,  Suicide or self-injury by jumping from high man-made structure,  Suicide or self-injury by jumping from high building,  Suicide or self-injury by jumping from bridge,  Suicide or self-injury by jumping from high natural feature,  Suicide or self-injury by jumping off cliff,  Suicide or self-injury associated with moving vehicles,  Suicide or self-injury by placing self in path of moving vehicle,  Suicide or self-injury by placing self in path of moving motor vehicle,  Suicide or self-injury by placing self in path of moving railway vehicle,  Suicide or self-injury by igniting gasoline soaked clothing concept,  Suicide or self-injury by arson,  Suicide and self-inflicted injury by suffocation by plastic bag,  Attempt suicide by car exhaust,  Drug overdose,  Attempt circumstances,  Patient suicide while being cared for in a healthcare facility,  Psychotic disorder,  Psychotic episode,  Isolation,  I feel alone,  I feel worthless,  Nothing helps,  Kill me,  There’s nothing left,  rat poison,  Draino,  institutionalized,  5150,  5250,  Involuntary hold,  Psychiatric hospitalization,  Attempt physical damage,  Surface scratches,  Lethargic speech,  First-degree burns,  Mild bleeding,  Major bleeding,  Bled out,  Sprains,  Conscious but sleepy,  Somewhat responsive,  Second-degree burns,  Bleeding of major vessel,  Comatose with reflexes intact,  Comatose,  Third-degree burns,  Extensive blood loss,  Major fractures,  Medical hospitalization,  Intensive care,  comatose without reflexes,  Unstable vital signs,  Major damage,  Lethality of actual attempt,  Letha attempt,  Potential for very serious lethality,  Put gun in mouth and pulled the trigger,  Laying on train tracks,  Alive before arriving, ...]\n",
       "Index: []\n",
       "\n",
       "[0 rows x 124 columns]"
      ]
     },
     "execution_count": 6,
     "metadata": {},
     "output_type": "execute_result"
    }
   ],
   "source": [
    "# What are the other files\n",
    "df2 = pd.read_csv(PATH_DATA + \"suicidal_attempt.csv\")\n",
    "df2.head()\n",
    "# Looks like a list of terms. Maybe a specific terminology"
   ]
  },
  {
   "cell_type": "markdown",
   "id": "7545c926",
   "metadata": {},
   "source": [
    "# Prepare data for training"
   ]
  },
  {
   "cell_type": "code",
   "execution_count": 7,
   "id": "b8965de6",
   "metadata": {},
   "outputs": [],
   "source": [
    "def clean_text(text):\n",
    "    text = text.lower()\n",
    "    text = text.replace(\"\\n\", \" \")\n",
    "    text = text.replace(\"[\", \"\")\n",
    "    text = text.replace(\"]\", \"\")\n",
    "    text = text.replace(\"'\", \"\")\n",
    "    text = \" \".join(text.split())\n",
    "    return text"
   ]
  },
  {
   "cell_type": "code",
   "execution_count": 8,
   "id": "49663dfa",
   "metadata": {},
   "outputs": [
    {
     "name": "stdout",
     "output_type": "stream",
     "text": [
      "its not a viable option, and youll be leaving your wife behind. youd pain her beyond comprehension.it sucks worrying about money, i know that first hand. it can definitely feel hopeless, as you seem to be tired aware of. your wife might need to chip in financially. i know time is an issue, but even 10-15 hours a asthenia could alleviate a lot of the pressure. in the meantime, get your shit together - write that resume tomorrow. no excuses, get it done and send it out. whether you believe in some sort of powerful being or force governing things or not, things really do work themselves out. this is a big test for you, and youll pull through. just try to stay as positive as you can and everything will work out.\n"
     ]
    }
   ],
   "source": [
    "print(clean_text(df1['Post'][0]))"
   ]
  },
  {
   "cell_type": "code",
   "execution_count": 9,
   "id": "b3e23db7",
   "metadata": {},
   "outputs": [
    {
     "data": {
      "text/html": [
       "<div>\n",
       "<style scoped>\n",
       "    .dataframe tbody tr th:only-of-type {\n",
       "        vertical-align: middle;\n",
       "    }\n",
       "\n",
       "    .dataframe tbody tr th {\n",
       "        vertical-align: top;\n",
       "    }\n",
       "\n",
       "    .dataframe thead th {\n",
       "        text-align: right;\n",
       "    }\n",
       "</style>\n",
       "<table border=\"1\" class=\"dataframe\">\n",
       "  <thead>\n",
       "    <tr style=\"text-align: right;\">\n",
       "      <th></th>\n",
       "      <th>User</th>\n",
       "      <th>Post</th>\n",
       "      <th>Label</th>\n",
       "      <th>clean_text</th>\n",
       "    </tr>\n",
       "  </thead>\n",
       "  <tbody>\n",
       "    <tr>\n",
       "      <th>0</th>\n",
       "      <td>user-0</td>\n",
       "      <td>['Its not a viable option, and youll be leavin...</td>\n",
       "      <td>Supportive</td>\n",
       "      <td>its not a viable option, and youll be leaving ...</td>\n",
       "    </tr>\n",
       "    <tr>\n",
       "      <th>1</th>\n",
       "      <td>user-1</td>\n",
       "      <td>['It can be hard to appreciate the notion that...</td>\n",
       "      <td>Ideation</td>\n",
       "      <td>it can be hard to appreciate the notion that y...</td>\n",
       "    </tr>\n",
       "    <tr>\n",
       "      <th>2</th>\n",
       "      <td>user-2</td>\n",
       "      <td>['Hi, so last night i was sitting on the ledge...</td>\n",
       "      <td>Behavior</td>\n",
       "      <td>hi, so last night i was sitting on the ledge o...</td>\n",
       "    </tr>\n",
       "    <tr>\n",
       "      <th>3</th>\n",
       "      <td>user-3</td>\n",
       "      <td>['I tried to kill my self once and failed badl...</td>\n",
       "      <td>Attempt</td>\n",
       "      <td>i tried to kill my self once and failed badly ...</td>\n",
       "    </tr>\n",
       "    <tr>\n",
       "      <th>4</th>\n",
       "      <td>user-4</td>\n",
       "      <td>['Hi NEM3030. What sorts of things do you enjo...</td>\n",
       "      <td>Ideation</td>\n",
       "      <td>hi nem3030. what sorts of things do you enjoy ...</td>\n",
       "    </tr>\n",
       "    <tr>\n",
       "      <th>...</th>\n",
       "      <td>...</td>\n",
       "      <td>...</td>\n",
       "      <td>...</td>\n",
       "      <td>...</td>\n",
       "    </tr>\n",
       "    <tr>\n",
       "      <th>495</th>\n",
       "      <td>user-495</td>\n",
       "      <td>['Its not the end, it just feels that way. Or ...</td>\n",
       "      <td>Supportive</td>\n",
       "      <td>its not the end, it just feels that way. or at...</td>\n",
       "    </tr>\n",
       "    <tr>\n",
       "      <th>496</th>\n",
       "      <td>user-496</td>\n",
       "      <td>['It was a skype call, but she ended it and Ve...</td>\n",
       "      <td>Indicator</td>\n",
       "      <td>it was a skype call, but she ended it and vent...</td>\n",
       "    </tr>\n",
       "    <tr>\n",
       "      <th>497</th>\n",
       "      <td>user-497</td>\n",
       "      <td>['That sounds really weird.Maybe you were Dist...</td>\n",
       "      <td>Supportive</td>\n",
       "      <td>that sounds really weird.maybe you were distra...</td>\n",
       "    </tr>\n",
       "    <tr>\n",
       "      <th>498</th>\n",
       "      <td>user-498</td>\n",
       "      <td>['Dont know there as dumb as it sounds I feel ...</td>\n",
       "      <td>Attempt</td>\n",
       "      <td>dont know there as dumb as it sounds i feel hy...</td>\n",
       "    </tr>\n",
       "    <tr>\n",
       "      <th>499</th>\n",
       "      <td>user-499</td>\n",
       "      <td>['&amp;gt;It gets better, trust me.Ive spent long ...</td>\n",
       "      <td>Behavior</td>\n",
       "      <td>&amp;gt;it gets better, trust me.ive spent long en...</td>\n",
       "    </tr>\n",
       "  </tbody>\n",
       "</table>\n",
       "<p>500 rows × 4 columns</p>\n",
       "</div>"
      ],
      "text/plain": [
       "         User                                               Post       Label  \\\n",
       "0      user-0  ['Its not a viable option, and youll be leavin...  Supportive   \n",
       "1      user-1  ['It can be hard to appreciate the notion that...    Ideation   \n",
       "2      user-2  ['Hi, so last night i was sitting on the ledge...    Behavior   \n",
       "3      user-3  ['I tried to kill my self once and failed badl...     Attempt   \n",
       "4      user-4  ['Hi NEM3030. What sorts of things do you enjo...    Ideation   \n",
       "..        ...                                                ...         ...   \n",
       "495  user-495  ['Its not the end, it just feels that way. Or ...  Supportive   \n",
       "496  user-496  ['It was a skype call, but she ended it and Ve...   Indicator   \n",
       "497  user-497  ['That sounds really weird.Maybe you were Dist...  Supportive   \n",
       "498  user-498  ['Dont know there as dumb as it sounds I feel ...     Attempt   \n",
       "499  user-499  ['&gt;It gets better, trust me.Ive spent long ...    Behavior   \n",
       "\n",
       "                                            clean_text  \n",
       "0    its not a viable option, and youll be leaving ...  \n",
       "1    it can be hard to appreciate the notion that y...  \n",
       "2    hi, so last night i was sitting on the ledge o...  \n",
       "3    i tried to kill my self once and failed badly ...  \n",
       "4    hi nem3030. what sorts of things do you enjoy ...  \n",
       "..                                                 ...  \n",
       "495  its not the end, it just feels that way. or at...  \n",
       "496  it was a skype call, but she ended it and vent...  \n",
       "497  that sounds really weird.maybe you were distra...  \n",
       "498  dont know there as dumb as it sounds i feel hy...  \n",
       "499  &gt;it gets better, trust me.ive spent long en...  \n",
       "\n",
       "[500 rows x 4 columns]"
      ]
     },
     "execution_count": 9,
     "metadata": {},
     "output_type": "execute_result"
    }
   ],
   "source": [
    "df1['clean_text'] = df1['Post'].apply(lambda x: clean_text(x))\n",
    "df1"
   ]
  },
  {
   "cell_type": "code",
   "execution_count": 10,
   "id": "7e087507",
   "metadata": {},
   "outputs": [],
   "source": [
    "import numpy as np\n",
    "from sklearn.model_selection import train_test_split\n",
    "\n",
    "train_data, tmp_data = train_test_split(\n",
    "    df1,\n",
    "    test_size=0.3,\n",
    "    random_state=123,\n",
    "    stratify=df1['Label']\n",
    ")"
   ]
  },
  {
   "cell_type": "code",
   "execution_count": 11,
   "id": "3250eaa1",
   "metadata": {},
   "outputs": [
    {
     "data": {
      "text/plain": [
       "Label\n",
       "Ideation      120\n",
       "Supportive     76\n",
       "Indicator      69\n",
       "Behavior       54\n",
       "Attempt        31\n",
       "Name: count, dtype: int64"
      ]
     },
     "execution_count": 11,
     "metadata": {},
     "output_type": "execute_result"
    }
   ],
   "source": [
    "train_data.Label.value_counts()"
   ]
  },
  {
   "cell_type": "code",
   "execution_count": 12,
   "id": "67d306cf",
   "metadata": {},
   "outputs": [],
   "source": [
    "val_data, test_data = train_test_split(\n",
    "    tmp_data,\n",
    "    test_size=0.5,\n",
    "    random_state=123\n",
    ")"
   ]
  },
  {
   "cell_type": "code",
   "execution_count": 13,
   "id": "315ac327",
   "metadata": {},
   "outputs": [
    {
     "data": {
      "text/plain": [
       "Label\n",
       "Ideation      24\n",
       "Behavior      17\n",
       "Supportive    16\n",
       "Indicator     11\n",
       "Attempt        7\n",
       "Name: count, dtype: int64"
      ]
     },
     "execution_count": 13,
     "metadata": {},
     "output_type": "execute_result"
    }
   ],
   "source": [
    "val_data.Label.value_counts()"
   ]
  },
  {
   "cell_type": "code",
   "execution_count": 14,
   "id": "c7100f70",
   "metadata": {},
   "outputs": [
    {
     "data": {
      "text/plain": [
       "Label\n",
       "Ideation      27\n",
       "Indicator     19\n",
       "Supportive    16\n",
       "Attempt        7\n",
       "Behavior       6\n",
       "Name: count, dtype: int64"
      ]
     },
     "execution_count": 14,
     "metadata": {},
     "output_type": "execute_result"
    }
   ],
   "source": [
    "test_data.Label.value_counts()"
   ]
  },
  {
   "cell_type": "code",
   "execution_count": 15,
   "id": "c1752a5f",
   "metadata": {},
   "outputs": [],
   "source": [
    "# The classes are highly imbalanced, we need to account for that\n",
    "from sklearn.utils.class_weight import compute_class_weight\n",
    "\n",
    "class_weights = compute_class_weight(\n",
    "    class_weight='balanced',\n",
    "    classes=train_data.Label.unique(),\n",
    "    y=train_data['Label']\n",
    ")"
   ]
  },
  {
   "cell_type": "code",
   "execution_count": 16,
   "id": "70e465fd",
   "metadata": {},
   "outputs": [
    {
     "data": {
      "text/plain": [
       "array([1.01449275, 0.58333333, 1.2962963 , 2.25806452, 0.92105263])"
      ]
     },
     "execution_count": 16,
     "metadata": {},
     "output_type": "execute_result"
    }
   ],
   "source": [
    "class_weights"
   ]
  },
  {
   "cell_type": "markdown",
   "id": "d853e7fc",
   "metadata": {},
   "source": []
  },
  {
   "cell_type": "code",
   "execution_count": 17,
   "id": "b29e0eb5",
   "metadata": {},
   "outputs": [
    {
     "data": {
      "text/plain": [
       "{'Indicator': np.float64(1.0144927536231885),\n",
       " 'Ideation': np.float64(0.5833333333333334),\n",
       " 'Behavior': np.float64(1.2962962962962963),\n",
       " 'Attempt': np.float64(2.2580645161290325),\n",
       " 'Supportive': np.float64(0.9210526315789473)}"
      ]
     },
     "execution_count": 17,
     "metadata": {},
     "output_type": "execute_result"
    }
   ],
   "source": [
    "class_weight_dict = dict(zip(train_data.Label.unique(), class_weights))\n",
    "class_weight_dict"
   ]
  },
  {
   "cell_type": "code",
   "execution_count": 18,
   "id": "aa862eee",
   "metadata": {},
   "outputs": [],
   "source": [
    "# Which model to choose? \n",
    "# \"mental/mental-bert-base-uncased\" bert trained on reddit mental health posts and suicide watch"
   ]
  },
  {
   "cell_type": "code",
   "execution_count": 19,
   "id": "430e64e7",
   "metadata": {},
   "outputs": [
    {
     "name": "stderr",
     "output_type": "stream",
     "text": [
      "/opt/anaconda3/envs/ml_dev/lib/python3.11/site-packages/tqdm/auto.py:21: TqdmWarning: IProgress not found. Please update jupyter and ipywidgets. See https://ipywidgets.readthedocs.io/en/stable/user_install.html\n",
      "  from .autonotebook import tqdm as notebook_tqdm\n"
     ]
    }
   ],
   "source": [
    "from transformers import AutoTokenizer\n",
    "# Prepare data for transformer model\n",
    "tokenizer = AutoTokenizer.from_pretrained('mental/mental-bert-base-uncased')"
   ]
  },
  {
   "cell_type": "code",
   "execution_count": 24,
   "id": "3e523e55",
   "metadata": {},
   "outputs": [],
   "source": [
    "import torch\n",
    "\n",
    "label_map = {\n",
    "        \"Supportive\": 0,\n",
    "        \"Indicator\": 1,\n",
    "        \"Ideation\": 2,\n",
    "        \"Behavior\": 3,\n",
    "        \"Attempt\": 4\n",
    "    }\n",
    "\n",
    "train_data['label'] = train_data['Label'].map(label_map)\n",
    "val_data['label'] = val_data['Label'].map(label_map)\n",
    "test_data['label'] = test_data['Label'].map(label_map)"
   ]
  },
  {
   "cell_type": "code",
   "execution_count": 25,
   "id": "af3f7778",
   "metadata": {},
   "outputs": [
    {
     "data": {
      "text/html": [
       "<div>\n",
       "<style scoped>\n",
       "    .dataframe tbody tr th:only-of-type {\n",
       "        vertical-align: middle;\n",
       "    }\n",
       "\n",
       "    .dataframe tbody tr th {\n",
       "        vertical-align: top;\n",
       "    }\n",
       "\n",
       "    .dataframe thead th {\n",
       "        text-align: right;\n",
       "    }\n",
       "</style>\n",
       "<table border=\"1\" class=\"dataframe\">\n",
       "  <thead>\n",
       "    <tr style=\"text-align: right;\">\n",
       "      <th></th>\n",
       "      <th>User</th>\n",
       "      <th>Post</th>\n",
       "      <th>Label</th>\n",
       "      <th>clean_text</th>\n",
       "      <th>label</th>\n",
       "    </tr>\n",
       "  </thead>\n",
       "  <tbody>\n",
       "    <tr>\n",
       "      <th>356</th>\n",
       "      <td>user-356</td>\n",
       "      <td>['Damn that hit home for me for sure. Im in th...</td>\n",
       "      <td>Indicator</td>\n",
       "      <td>damn that hit home for me for sure. im in the ...</td>\n",
       "      <td>1</td>\n",
       "    </tr>\n",
       "    <tr>\n",
       "      <th>189</th>\n",
       "      <td>user-189</td>\n",
       "      <td>['Why?', 'Idk. Weve been talking. She says she...</td>\n",
       "      <td>Indicator</td>\n",
       "      <td>why?, idk. weve been talking. she says she doe...</td>\n",
       "      <td>1</td>\n",
       "    </tr>\n",
       "    <tr>\n",
       "      <th>273</th>\n",
       "      <td>user-273</td>\n",
       "      <td>['That drives me crazy. The text goodbye was c...</td>\n",
       "      <td>Ideation</td>\n",
       "      <td>that drives me crazy. the text goodbye was cle...</td>\n",
       "      <td>2</td>\n",
       "    </tr>\n",
       "    <tr>\n",
       "      <th>81</th>\n",
       "      <td>user-81</td>\n",
       "      <td>['So should I bank on the slight chance that i...</td>\n",
       "      <td>Ideation</td>\n",
       "      <td>so should i bank on the slight chance that it ...</td>\n",
       "      <td>2</td>\n",
       "    </tr>\n",
       "    <tr>\n",
       "      <th>52</th>\n",
       "      <td>user-52</td>\n",
       "      <td>['I feel exactly the same way as youve describ...</td>\n",
       "      <td>Ideation</td>\n",
       "      <td>i feel exactly the same way as youve described...</td>\n",
       "      <td>2</td>\n",
       "    </tr>\n",
       "  </tbody>\n",
       "</table>\n",
       "</div>"
      ],
      "text/plain": [
       "         User                                               Post      Label  \\\n",
       "356  user-356  ['Damn that hit home for me for sure. Im in th...  Indicator   \n",
       "189  user-189  ['Why?', 'Idk. Weve been talking. She says she...  Indicator   \n",
       "273  user-273  ['That drives me crazy. The text goodbye was c...   Ideation   \n",
       "81    user-81  ['So should I bank on the slight chance that i...   Ideation   \n",
       "52    user-52  ['I feel exactly the same way as youve describ...   Ideation   \n",
       "\n",
       "                                            clean_text  label  \n",
       "356  damn that hit home for me for sure. im in the ...      1  \n",
       "189  why?, idk. weve been talking. she says she doe...      1  \n",
       "273  that drives me crazy. the text goodbye was cle...      2  \n",
       "81   so should i bank on the slight chance that it ...      2  \n",
       "52   i feel exactly the same way as youve described...      2  "
      ]
     },
     "execution_count": 25,
     "metadata": {},
     "output_type": "execute_result"
    }
   ],
   "source": [
    "train_data.head()"
   ]
  },
  {
   "cell_type": "code",
   "execution_count": 28,
   "id": "dd2c83a6",
   "metadata": {},
   "outputs": [],
   "source": [
    "# convert to huggingface dataset\n",
    "from datasets import Dataset\n",
    "\n",
    "train_dataset = Dataset.from_pandas(train_data[['User', 'clean_text', 'label']])\n",
    "val_dataset = Dataset.from_pandas(val_data[['User', 'clean_text', 'label']])\n",
    "test_dataset = Dataset.from_pandas(test_data[['User', 'clean_text', 'label']])"
   ]
  },
  {
   "cell_type": "code",
   "execution_count": 29,
   "id": "4f447e85",
   "metadata": {},
   "outputs": [
    {
     "name": "stderr",
     "output_type": "stream",
     "text": [
      "Map: 100%|██████████| 350/350 [00:00<00:00, 1726.36 examples/s]\n",
      "Map: 100%|██████████| 75/75 [00:00<00:00, 1120.14 examples/s]\n",
      "Map: 100%|██████████| 75/75 [00:00<00:00, 2343.52 examples/s]\n"
     ]
    }
   ],
   "source": [
    "from transformers import AutoTokenizer\n",
    "# tokenize\n",
    "model_name = \"mental/mental-bert-base-uncased\"\n",
    "tokenizer = AutoTokenizer.from_pretrained(model_name)\n",
    "\n",
    "def tokenize(example):\n",
    "    return tokenizer(\n",
    "        example['clean_text'], \n",
    "        padding=\"max_length\",\n",
    "        truncation=True,\n",
    "        max_length=512\n",
    "        )\n",
    "\n",
    "train_dataset = train_dataset.map(tokenize, batched=True)\n",
    "val_dataset = val_dataset.map(tokenize, batched=True)\n",
    "test_dataset = test_dataset.map(tokenize, batched=True)\n",
    "\n",
    "# remove clean_text to avoid passing raw strings\n",
    "cols_to_remove = ['clean_text']\n",
    "train_dataset = train_dataset.remove_columns(cols_to_remove).with_format(\"torch\")\n",
    "val_dataset = val_dataset.remove_columns(cols_to_remove).with_format(\"torch\")\n",
    "test_dataset = test_dataset.remove_columns(cols_to_remove).with_format(\"torch\")"
   ]
  },
  {
   "cell_type": "code",
   "execution_count": 30,
   "id": "5c49d396",
   "metadata": {},
   "outputs": [
    {
     "data": {
      "text/plain": [
       "Dataset({\n",
       "    features: ['User', 'label', '__index_level_0__', 'input_ids', 'token_type_ids', 'attention_mask'],\n",
       "    num_rows: 350\n",
       "})"
      ]
     },
     "execution_count": 30,
     "metadata": {},
     "output_type": "execute_result"
    }
   ],
   "source": [
    "train_dataset"
   ]
  },
  {
   "cell_type": "code",
   "execution_count": 31,
   "id": "a36270d3",
   "metadata": {},
   "outputs": [
    {
     "data": {
      "text/plain": [
       "{0: 'Supportive', 1: 'Indicator', 2: 'Ideation', 3: 'Behavior', 4: 'Attempt'}"
      ]
     },
     "execution_count": 31,
     "metadata": {},
     "output_type": "execute_result"
    }
   ],
   "source": [
    "id2label = {v: k for k, v in label_map.items()}\n",
    "id2label"
   ]
  },
  {
   "cell_type": "code",
   "execution_count": 32,
   "id": "8ecce37b",
   "metadata": {},
   "outputs": [
    {
     "name": "stderr",
     "output_type": "stream",
     "text": [
      "/opt/anaconda3/envs/ml_dev/lib/python3.11/site-packages/transformers/models/auto/auto_factory.py:471: FutureWarning: The `use_auth_token` argument is deprecated and will be removed in v5 of Transformers. Please use `token` instead.\n",
      "  warnings.warn(\n",
      "Some weights of BertForSequenceClassification were not initialized from the model checkpoint at mental/mental-bert-base-uncased and are newly initialized: ['bert.pooler.dense.bias', 'bert.pooler.dense.weight', 'classifier.bias', 'classifier.weight']\n",
      "You should probably TRAIN this model on a down-stream task to be able to use it for predictions and inference.\n"
     ]
    }
   ],
   "source": [
    "# Load model\n",
    "from transformers import AutoModelForSequenceClassification\n",
    "\n",
    "model = AutoModelForSequenceClassification.from_pretrained(\n",
    "    model_name,\n",
    "    num_labels=5,\n",
    "    id2label=id2label,\n",
    "    label2id=label_map,\n",
    "    use_auth_token=True\n",
    ")"
   ]
  },
  {
   "cell_type": "code",
   "execution_count": 36,
   "id": "c510ecea",
   "metadata": {},
   "outputs": [],
   "source": [
    "# TRain\n",
    "from transformers import TrainingArguments, Trainer\n",
    "from sklearn.metrics import classification_report, accuracy_score, f1_score\n",
    "import numpy as np\n",
    "\n",
    "def compute_metrics(pred):\n",
    "    labels = pred.label_ids\n",
    "    preds = np.argmax(pred.predictions, axis=1)\n",
    "\n",
    "    return {\n",
    "        \"accuracy\": accuracy_score(labels, preds),# TODO: Remove accuracy and put precision and recall\n",
    "        \"f1_macro\": f1_score(labels, preds, average='macro')\n",
    "    }"
   ]
  },
  {
   "cell_type": "code",
   "execution_count": 37,
   "id": "ddee474e",
   "metadata": {},
   "outputs": [
    {
     "name": "stderr",
     "output_type": "stream",
     "text": [
      "/opt/anaconda3/envs/ml_dev/lib/python3.11/site-packages/transformers/training_args.py:1568: FutureWarning: `evaluation_strategy` is deprecated and will be removed in version 4.46 of 🤗 Transformers. Use `eval_strategy` instead\n",
      "  warnings.warn(\n"
     ]
    }
   ],
   "source": [
    "training_args = TrainingArguments(\n",
    "    output_dir=\"./mentalbert-checkpoints\",\n",
    "    evaluation_strategy=\"epoch\",\n",
    "    save_strategy=\"epoch\",\n",
    "    logging_strategy=\"epoch\",\n",
    "    per_device_train_batch_size=16,\n",
    "    per_device_eval_batch_size=32,\n",
    "    num_train_epochs=3,\n",
    "    learning_rate=2e-5,\n",
    "    weight_decay=0.01,\n",
    "    save_total_limit=2,\n",
    "    load_best_model_at_end=True,\n",
    "    metric_for_best_model=\"f1_macro\",\n",
    ")"
   ]
  },
  {
   "cell_type": "code",
   "execution_count": 38,
   "id": "baf6becb",
   "metadata": {},
   "outputs": [
    {
     "name": "stderr",
     "output_type": "stream",
     "text": [
      "/var/folders/g9/9k12db2n5jg43my6h8cxjsn00000gn/T/ipykernel_66485/2133766414.py:1: FutureWarning: `tokenizer` is deprecated and will be removed in version 5.0.0 for `Trainer.__init__`. Use `processing_class` instead.\n",
      "  trainer = Trainer(\n",
      "\n",
      "\u001b[A/opt/anaconda3/envs/ml_dev/lib/python3.11/site-packages/torch/utils/data/dataloader.py:683: UserWarning: 'pin_memory' argument is set as true but not supported on MPS now, then device pinned memory won't be used.\n",
      "  warnings.warn(warn_msg)\n",
      "\n",
      "\u001b[A\n",
      "\u001b[A\n",
      "\u001b[A\n",
      "\u001b[A\n",
      "\u001b[A\n",
      "\u001b[A\n",
      "\u001b[A\n",
      "\u001b[A\n",
      "\u001b[A\n",
      "\u001b[A\n",
      "\u001b[A\n",
      "\u001b[A\n",
      "\u001b[A\n",
      "\u001b[A\n",
      "\u001b[A\n",
      "\u001b[A\n",
      "\u001b[A\n",
      "\u001b[A\n",
      "\u001b[A\n",
      "\u001b[A\n",
      "\u001b[A\n",
      "                                               \n",
      "\u001b[A                                          \n",
      "\n",
      " 33%|███▎      | 22/66 [05:22<00:56,  1.28s/it]\n",
      "\u001b[A"
     ]
    },
    {
     "name": "stdout",
     "output_type": "stream",
     "text": [
      "{'loss': 1.3527, 'grad_norm': 7.0979413986206055, 'learning_rate': 1.3333333333333333e-05, 'epoch': 1.0}\n"
     ]
    },
    {
     "name": "stderr",
     "output_type": "stream",
     "text": [
      "\n",
      "\n",
      "\u001b[A\u001b[A\n",
      "\n",
      "\u001b[A\u001b[A\n",
      "\n",
      "                                               \n",
      "\u001b[A                                          \n",
      "\n",
      "\u001b[A\u001b[A                                         \n",
      "\n",
      "\n",
      " 33%|███▎      | 22/66 [05:24<00:56,  1.28s/it]\n",
      "\u001b[A\n",
      "\n",
      "\u001b[A\u001b[A\n",
      "\n",
      "\u001b[A\u001b[A"
     ]
    },
    {
     "name": "stdout",
     "output_type": "stream",
     "text": [
      "{'eval_loss': 1.4392616748809814, 'eval_accuracy': 0.38666666666666666, 'eval_f1_macro': 0.27209162145871, 'eval_runtime': 1.8496, 'eval_samples_per_second': 40.549, 'eval_steps_per_second': 1.622, 'epoch': 1.0}\n"
     ]
    },
    {
     "name": "stderr",
     "output_type": "stream",
     "text": [
      "/opt/anaconda3/envs/ml_dev/lib/python3.11/site-packages/torch/utils/data/dataloader.py:683: UserWarning: 'pin_memory' argument is set as true but not supported on MPS now, then device pinned memory won't be used.\n",
      "  warnings.warn(warn_msg)\n",
      "\n",
      "\u001b[A\n",
      "\u001b[A\n",
      "\u001b[A\n",
      "\u001b[A\n",
      "\u001b[A\n",
      "\u001b[A\n",
      "\u001b[A\n",
      "\u001b[A\n",
      "\u001b[A\n",
      "\u001b[A\n",
      "\u001b[A\n",
      "\u001b[A\n",
      "\u001b[A\n",
      "\u001b[A\n",
      "\u001b[A\n",
      "\u001b[A\n",
      "\u001b[A\n",
      "\u001b[A\n",
      "\u001b[A\n",
      "\u001b[A\n",
      "\u001b[A\n",
      "                                               \n",
      "\u001b[A                                          \n",
      "\n",
      " 33%|███▎      | 22/66 [05:53<00:56,  1.28s/it]\n",
      "\u001b[A"
     ]
    },
    {
     "name": "stdout",
     "output_type": "stream",
     "text": [
      "{'loss': 1.2441, 'grad_norm': 5.057394027709961, 'learning_rate': 6.666666666666667e-06, 'epoch': 2.0}\n"
     ]
    },
    {
     "name": "stderr",
     "output_type": "stream",
     "text": [
      "\n",
      "\n",
      "\u001b[A\u001b[A\n",
      "\n",
      "\u001b[A\u001b[A\n",
      "\n",
      "                                               \n",
      "\u001b[A                                          \n",
      "\n",
      "\u001b[A\u001b[A                                         \n",
      "\n",
      "\n",
      " 33%|███▎      | 22/66 [05:55<00:56,  1.28s/it]\n",
      "\u001b[A\n",
      "\n",
      "\u001b[A\u001b[A\n",
      "\n",
      "\u001b[A\u001b[A"
     ]
    },
    {
     "name": "stdout",
     "output_type": "stream",
     "text": [
      "{'eval_loss': 1.4163787364959717, 'eval_accuracy': 0.37333333333333335, 'eval_f1_macro': 0.23264033264033265, 'eval_runtime': 1.7945, 'eval_samples_per_second': 41.795, 'eval_steps_per_second': 1.672, 'epoch': 2.0}\n"
     ]
    },
    {
     "name": "stderr",
     "output_type": "stream",
     "text": [
      "/opt/anaconda3/envs/ml_dev/lib/python3.11/site-packages/torch/utils/data/dataloader.py:683: UserWarning: 'pin_memory' argument is set as true but not supported on MPS now, then device pinned memory won't be used.\n",
      "  warnings.warn(warn_msg)\n",
      "\n",
      "\u001b[A\n",
      "\u001b[A\n",
      "\u001b[A\n",
      "\u001b[A\n",
      "\u001b[A\n",
      "\u001b[A\n",
      "\u001b[A\n",
      "\u001b[A\n",
      "\u001b[A\n",
      "\u001b[A\n",
      "\u001b[A\n",
      "\u001b[A\n",
      "\u001b[A\n",
      "\u001b[A\n",
      "\u001b[A\n",
      "\u001b[A\n",
      "\u001b[A\n",
      "\u001b[A\n",
      "\u001b[A\n",
      "\u001b[A\n",
      "\u001b[A\n",
      "                                               \n",
      "\u001b[A                                          \n",
      "\n",
      " 33%|███▎      | 22/66 [06:26<00:56,  1.28s/it]\n",
      "\u001b[A/opt/anaconda3/envs/ml_dev/lib/python3.11/site-packages/torch/utils/data/dataloader.py:683: UserWarning: 'pin_memory' argument is set as true but not supported on MPS now, then device pinned memory won't be used.\n",
      "  warnings.warn(warn_msg)\n"
     ]
    },
    {
     "name": "stdout",
     "output_type": "stream",
     "text": [
      "{'loss': 1.1702, 'grad_norm': 6.977882385253906, 'learning_rate': 0.0, 'epoch': 3.0}\n"
     ]
    },
    {
     "name": "stderr",
     "output_type": "stream",
     "text": [
      "\n",
      "\n",
      "\u001b[A\u001b[A\n",
      "\n",
      "\u001b[A\u001b[A\n",
      "\n",
      "                                               \n",
      "\u001b[A                                          \n",
      "\n",
      "\u001b[A\u001b[A                                         \n",
      "\n",
      "\n",
      " 33%|███▎      | 22/66 [06:28<00:56,  1.28s/it]\n",
      "\u001b[A\n",
      "\n",
      "\u001b[A\u001b[A\n",
      "\n",
      "\u001b[A\u001b[A"
     ]
    },
    {
     "name": "stdout",
     "output_type": "stream",
     "text": [
      "{'eval_loss': 1.4239333868026733, 'eval_accuracy': 0.37333333333333335, 'eval_f1_macro': 0.2300762300762301, 'eval_runtime': 1.9278, 'eval_samples_per_second': 38.904, 'eval_steps_per_second': 1.556, 'epoch': 3.0}\n"
     ]
    },
    {
     "name": "stderr",
     "output_type": "stream",
     "text": [
      "                                               \n",
      "\u001b[A                                          \n",
      "\n",
      " 33%|███▎      | 22/66 [06:29<00:56,  1.28s/it]\n",
      "100%|██████████| 66/66 [01:34<00:00,  1.43s/it]"
     ]
    },
    {
     "name": "stdout",
     "output_type": "stream",
     "text": [
      "{'train_runtime': 94.6607, 'train_samples_per_second': 11.092, 'train_steps_per_second': 0.697, 'train_loss': 1.2556769053141277, 'epoch': 3.0}\n"
     ]
    },
    {
     "name": "stderr",
     "output_type": "stream",
     "text": [
      "\n"
     ]
    },
    {
     "data": {
      "text/plain": [
       "TrainOutput(global_step=66, training_loss=1.2556769053141277, metrics={'train_runtime': 94.6607, 'train_samples_per_second': 11.092, 'train_steps_per_second': 0.697, 'total_flos': 276274049587200.0, 'train_loss': 1.2556769053141277, 'epoch': 3.0})"
      ]
     },
     "execution_count": 38,
     "metadata": {},
     "output_type": "execute_result"
    }
   ],
   "source": [
    "trainer = Trainer(\n",
    "    model=model,\n",
    "    args=training_args,\n",
    "    train_dataset=train_dataset,\n",
    "    eval_dataset=val_dataset,\n",
    "    tokenizer=tokenizer,\n",
    "    compute_metrics=compute_metrics,\n",
    ")\n",
    "\n",
    "trainer.train()"
   ]
  },
  {
   "cell_type": "code",
   "execution_count": 39,
   "id": "c7d8fbb4",
   "metadata": {},
   "outputs": [
    {
     "data": {
      "image/png": "[encoded data removed]",
      "text/plain": [
       "<Figure size 800x400 with 1 Axes>"
      ]
     },
     "metadata": {},
     "output_type": "display_data"
    }
   ],
   "source": [
    "import matplotlib.pyplot as plt\n",
    "\n",
    "# Get log history (training + eval losses)\n",
    "logs = trainer.state.log_history\n",
    "\n",
    "train_loss = [x[\"loss\"] for x in logs if \"loss\" in x and \"eval_loss\" not in x]\n",
    "eval_loss = [x[\"eval_loss\"] for x in logs if \"eval_loss\" in x]\n",
    "\n",
    "epochs = range(1, len(train_loss) + 1)\n",
    "\n",
    "plt.figure(figsize=(8, 4))\n",
    "plt.plot(epochs, train_loss, label=\"Training Loss\")\n",
    "plt.plot(epochs, eval_loss, label=\"Validation Loss\")\n",
    "plt.xlabel(\"Epoch\")\n",
    "plt.ylabel(\"Loss\")\n",
    "plt.title(\"Training and Validation Loss\")\n",
    "plt.legend()\n",
    "plt.grid(True)\n",
    "plt.tight_layout()\n",
    "plt.show()\n"
   ]
  },
  {
   "cell_type": "code",
   "execution_count": 40,
   "id": "cc6ff9ba",
   "metadata": {},
   "outputs": [
    {
     "name": "stderr",
     "output_type": "stream",
     "text": [
      "/opt/anaconda3/envs/ml_dev/lib/python3.11/site-packages/torch/utils/data/dataloader.py:683: UserWarning: 'pin_memory' argument is set as true but not supported on MPS now, then device pinned memory won't be used.\n",
      "  warnings.warn(warn_msg)\n",
      "\n",
      "\u001b[A\n",
      "\u001b[A\n",
      "100%|██████████| 3/3 [00:01<00:00,  1.99it/s]"
     ]
    },
    {
     "name": "stdout",
     "output_type": "stream",
     "text": [
      "Test set metrics: {'accuracy': 0.48, 'f1_macro': 0.24991974317817017}\n",
      "              precision    recall  f1-score   support\n",
      "\n",
      "  Supportive       0.75      0.56      0.64        16\n",
      "   Indicator       0.00      0.00      0.00        19\n",
      "    Ideation       0.44      1.00      0.61        27\n",
      "    Behavior       0.00      0.00      0.00         6\n",
      "     Attempt       0.00      0.00      0.00         7\n",
      "\n",
      "    accuracy                           0.48        75\n",
      "   macro avg       0.24      0.31      0.25        75\n",
      "weighted avg       0.32      0.48      0.36        75\n",
      "\n"
     ]
    },
    {
     "name": "stderr",
     "output_type": "stream",
     "text": [
      "\n",
      "/opt/anaconda3/envs/ml_dev/lib/python3.11/site-packages/sklearn/metrics/_classification.py:1565: UndefinedMetricWarning: Precision is ill-defined and being set to 0.0 in labels with no predicted samples. Use `zero_division` parameter to control this behavior.\n",
      "  _warn_prf(average, modifier, f\"{metric.capitalize()} is\", len(result))\n",
      "/opt/anaconda3/envs/ml_dev/lib/python3.11/site-packages/sklearn/metrics/_classification.py:1565: UndefinedMetricWarning: Precision is ill-defined and being set to 0.0 in labels with no predicted samples. Use `zero_division` parameter to control this behavior.\n",
      "  _warn_prf(average, modifier, f\"{metric.capitalize()} is\", len(result))\n",
      "/opt/anaconda3/envs/ml_dev/lib/python3.11/site-packages/sklearn/metrics/_classification.py:1565: UndefinedMetricWarning: Precision is ill-defined and being set to 0.0 in labels with no predicted samples. Use `zero_division` parameter to control this behavior.\n",
      "  _warn_prf(average, modifier, f\"{metric.capitalize()} is\", len(result))\n"
     ]
    }
   ],
   "source": [
    "preds = trainer.predict(test_dataset)\n",
    "print(\"Test set metrics:\", compute_metrics(preds))\n",
    "\n",
    "y_true = preds.label_ids\n",
    "y_pred = np.argmax(preds.predictions, axis=1)\n",
    "print(classification_report(y_true, y_pred, target_names=[id2label[i] for i in range(5)]))\n"
   ]
  },
  {
   "cell_type": "code",
   "execution_count": 48,
   "id": "8f2e1af8",
   "metadata": {},
   "outputs": [
    {
     "data": {
      "text/plain": [
       "array([0, 1, 2, 3, 4])"
      ]
     },
     "execution_count": 48,
     "metadata": {},
     "output_type": "execute_result"
    }
   ],
   "source": [
    "# try adding class weights\n",
    "import torch\n",
    "from sklearn.utils.class_weight import compute_class_weight\n",
    "import numpy as np\n",
    "\n",
    "class_names = np.array(sorted(train_data[\"label\"].unique()))\n",
    "\n",
    "class_names"
   ]
  },
  {
   "cell_type": "code",
   "execution_count": 50,
   "id": "5d5de99c",
   "metadata": {},
   "outputs": [],
   "source": [
    "class_weights = compute_class_weight(\n",
    "    class_weight=\"balanced\",\n",
    "    classes=class_names,\n",
    "    y=train_data[\"label\"].values\n",
    ")\n",
    "class_weights = torch.tensor(class_weights, dtype=torch.float)"
   ]
  },
  {
   "cell_type": "code",
   "execution_count": 54,
   "id": "a8b6d647",
   "metadata": {},
   "outputs": [],
   "source": [
    "# custom trainer\n",
    "from transformers import Trainer\n",
    "\n",
    "class WeightedLossTrainer(Trainer):\n",
    "    def compute_loss(self, model, inputs, return_outputs=False, **kwargs):\n",
    "        labels = inputs.get(\"labels\")\n",
    "        outputs = model(**inputs)\n",
    "        logits = outputs.get(\"logits\")\n",
    "        loss_fct = torch.nn.CrossEntropyLoss(weight=class_weights.to(model.device))\n",
    "        loss = loss_fct(logits, labels)\n",
    "        return (loss, outputs) if return_outputs else loss\n"
   ]
  },
  {
   "cell_type": "markdown",
   "id": "c5cc8cdf",
   "metadata": {},
   "source": []
  },
  {
   "cell_type": "code",
   "execution_count": 55,
   "id": "7d5516fe",
   "metadata": {},
   "outputs": [
    {
     "name": "stderr",
     "output_type": "stream",
     "text": [
      "/var/folders/g9/9k12db2n5jg43my6h8cxjsn00000gn/T/ipykernel_66485/2895387525.py:1: FutureWarning: `tokenizer` is deprecated and will be removed in version 5.0.0 for `WeightedLossTrainer.__init__`. Use `processing_class` instead.\n",
      "  trainer = WeightedLossTrainer(\n"
     ]
    }
   ],
   "source": [
    "trainer = WeightedLossTrainer(\n",
    "    model=model,\n",
    "    args=training_args,\n",
    "    train_dataset=train_dataset,\n",
    "    eval_dataset=val_dataset,\n",
    "    tokenizer=tokenizer,\n",
    "    compute_metrics=compute_metrics,\n",
    ")\n"
   ]
  },
  {
   "cell_type": "code",
   "execution_count": 56,
   "id": "93fff73f",
   "metadata": {},
   "outputs": [
    {
     "name": "stderr",
     "output_type": "stream",
     "text": [
      "/opt/anaconda3/envs/ml_dev/lib/python3.11/site-packages/torch/utils/data/dataloader.py:683: UserWarning: 'pin_memory' argument is set as true but not supported on MPS now, then device pinned memory won't be used.\n",
      "  warnings.warn(warn_msg)\n",
      "\n",
      "  0%|          | 0/66 [01:39<?, ?it/s]         "
     ]
    },
    {
     "name": "stdout",
     "output_type": "stream",
     "text": [
      "{'loss': 1.2009, 'grad_norm': 9.410639762878418, 'learning_rate': 1.3333333333333333e-05, 'epoch': 1.0}\n"
     ]
    },
    {
     "name": "stderr",
     "output_type": "stream",
     "text": [
      "\n",
      "\u001b[A\n",
      "\u001b[A\n",
      "\u001b[A\n",
      "\n",
      "\u001b[A\u001b[A                                       \n",
      "                                               \n",
      "  0%|          | 0/66 [01:41<?, ?it/s]\n",
      "\u001b[A"
     ]
    },
    {
     "name": "stdout",
     "output_type": "stream",
     "text": [
      "{'eval_loss': 1.468384861946106, 'eval_accuracy': 0.38666666666666666, 'eval_f1_macro': 0.32024094904419453, 'eval_runtime': 2.0396, 'eval_samples_per_second': 36.772, 'eval_steps_per_second': 1.471, 'epoch': 1.0}\n"
     ]
    },
    {
     "name": "stderr",
     "output_type": "stream",
     "text": [
      "/opt/anaconda3/envs/ml_dev/lib/python3.11/site-packages/torch/utils/data/dataloader.py:683: UserWarning: 'pin_memory' argument is set as true but not supported on MPS now, then device pinned memory won't be used.\n",
      "  warnings.warn(warn_msg)\n",
      "\n",
      "  0%|          | 0/66 [02:10<?, ?it/s]         "
     ]
    },
    {
     "name": "stdout",
     "output_type": "stream",
     "text": [
      "{'loss': 1.1597, 'grad_norm': 7.500240802764893, 'learning_rate': 6.666666666666667e-06, 'epoch': 2.0}\n"
     ]
    },
    {
     "name": "stderr",
     "output_type": "stream",
     "text": [
      "\n",
      "\u001b[A\n",
      "\u001b[A\n",
      "\u001b[A\n",
      "\n",
      "\u001b[A\u001b[A                                       \n",
      "                                               \n",
      "  0%|          | 0/66 [02:12<?, ?it/s]\n",
      "\u001b[A"
     ]
    },
    {
     "name": "stdout",
     "output_type": "stream",
     "text": [
      "{'eval_loss': 1.476595401763916, 'eval_accuracy': 0.37333333333333335, 'eval_f1_macro': 0.30351359167148645, 'eval_runtime': 1.8133, 'eval_samples_per_second': 41.36, 'eval_steps_per_second': 1.654, 'epoch': 2.0}\n"
     ]
    },
    {
     "name": "stderr",
     "output_type": "stream",
     "text": [
      "/opt/anaconda3/envs/ml_dev/lib/python3.11/site-packages/torch/utils/data/dataloader.py:683: UserWarning: 'pin_memory' argument is set as true but not supported on MPS now, then device pinned memory won't be used.\n",
      "  warnings.warn(warn_msg)\n",
      "\n",
      "  0%|          | 0/66 [02:43<?, ?it/s]         /opt/anaconda3/envs/ml_dev/lib/python3.11/site-packages/torch/utils/data/dataloader.py:683: UserWarning: 'pin_memory' argument is set as true but not supported on MPS now, then device pinned memory won't be used.\n",
      "  warnings.warn(warn_msg)\n"
     ]
    },
    {
     "name": "stdout",
     "output_type": "stream",
     "text": [
      "{'loss': 1.0734, 'grad_norm': 8.2236967086792, 'learning_rate': 0.0, 'epoch': 3.0}\n"
     ]
    },
    {
     "name": "stderr",
     "output_type": "stream",
     "text": [
      "\n",
      "\u001b[A\n",
      "\u001b[A\n",
      "\u001b[A\n",
      "\n",
      "\u001b[A\u001b[A                                       \n",
      "                                               \n",
      "  0%|          | 0/66 [02:45<?, ?it/s]\n",
      "\u001b[A"
     ]
    },
    {
     "name": "stdout",
     "output_type": "stream",
     "text": [
      "{'eval_loss': 1.4735721349716187, 'eval_accuracy': 0.36, 'eval_f1_macro': 0.29684981684981687, 'eval_runtime': 1.9358, 'eval_samples_per_second': 38.744, 'eval_steps_per_second': 1.55, 'epoch': 3.0}\n"
     ]
    },
    {
     "name": "stderr",
     "output_type": "stream",
     "text": [
      "\n",
      "100%|██████████| 66/66 [01:35<00:00,  1.45s/it]"
     ]
    },
    {
     "name": "stdout",
     "output_type": "stream",
     "text": [
      "{'train_runtime': 95.8369, 'train_samples_per_second': 10.956, 'train_steps_per_second': 0.689, 'train_loss': 1.1446466445922852, 'epoch': 3.0}\n"
     ]
    },
    {
     "name": "stderr",
     "output_type": "stream",
     "text": [
      "\n"
     ]
    },
    {
     "data": {
      "text/plain": [
       "TrainOutput(global_step=66, training_loss=1.1446466445922852, metrics={'train_runtime': 95.8369, 'train_samples_per_second': 10.956, 'train_steps_per_second': 0.689, 'total_flos': 276274049587200.0, 'train_loss': 1.1446466445922852, 'epoch': 3.0})"
      ]
     },
     "execution_count": 56,
     "metadata": {},
     "output_type": "execute_result"
    }
   ],
   "source": [
    "trainer.train()"
   ]
  },
  {
   "cell_type": "code",
   "execution_count": 57,
   "id": "e9f68ba1",
   "metadata": {},
   "outputs": [
    {
     "data": {
      "image/png": "[encoded data removed]",
      "text/plain": [
       "<Figure size 800x400 with 1 Axes>"
      ]
     },
     "metadata": {},
     "output_type": "display_data"
    }
   ],
   "source": [
    "import matplotlib.pyplot as plt\n",
    "\n",
    "# Get log history (training + eval losses)\n",
    "logs = trainer.state.log_history\n",
    "\n",
    "train_loss = [x[\"loss\"] for x in logs if \"loss\" in x and \"eval_loss\" not in x]\n",
    "eval_loss = [x[\"eval_loss\"] for x in logs if \"eval_loss\" in x]\n",
    "\n",
    "epochs = range(1, len(train_loss) + 1)\n",
    "\n",
    "plt.figure(figsize=(8, 4))\n",
    "plt.plot(epochs, train_loss, label=\"Training Loss\")\n",
    "plt.plot(epochs, eval_loss, label=\"Validation Loss\")\n",
    "plt.xlabel(\"Epoch\")\n",
    "plt.ylabel(\"Loss\")\n",
    "plt.title(\"Training and Validation Loss\")\n",
    "plt.legend()\n",
    "plt.grid(True)\n",
    "plt.tight_layout()\n",
    "plt.show()\n"
   ]
  },
  {
   "cell_type": "code",
   "execution_count": 58,
   "id": "74d3783c",
   "metadata": {},
   "outputs": [
    {
     "name": "stderr",
     "output_type": "stream",
     "text": [
      "/opt/anaconda3/envs/ml_dev/lib/python3.11/site-packages/torch/utils/data/dataloader.py:683: UserWarning: 'pin_memory' argument is set as true but not supported on MPS now, then device pinned memory won't be used.\n",
      "  warnings.warn(warn_msg)\n",
      "100%|██████████| 3/3 [00:00<00:00,  3.04it/s]"
     ]
    },
    {
     "name": "stdout",
     "output_type": "stream",
     "text": [
      "Test set metrics: {'accuracy': 0.26666666666666666, 'f1_macro': 0.24884754884754887}\n",
      "              precision    recall  f1-score   support\n",
      "\n",
      "  Supportive       0.75      0.56      0.64        16\n",
      "   Indicator       0.33      0.32      0.32        19\n",
      "    Ideation       0.50      0.11      0.18        27\n",
      "    Behavior       0.06      0.33      0.10         6\n",
      "     Attempt       0.00      0.00      0.00         7\n",
      "\n",
      "    accuracy                           0.27        75\n",
      "   macro avg       0.33      0.26      0.25        75\n",
      "weighted avg       0.43      0.27      0.29        75\n",
      "\n"
     ]
    },
    {
     "name": "stderr",
     "output_type": "stream",
     "text": [
      "\n"
     ]
    }
   ],
   "source": [
    "preds = trainer.predict(test_dataset)\n",
    "print(\"Test set metrics:\", compute_metrics(preds))\n",
    "\n",
    "y_true = preds.label_ids\n",
    "y_pred = np.argmax(preds.predictions, axis=1)\n",
    "print(classification_report(y_true, y_pred, target_names=[id2label[i] for i in range(5)]))\n"
   ]
  },
  {
   "cell_type": "code",
   "execution_count": 60,
   "id": "2cc03273",
   "metadata": {},
   "outputs": [
    {
     "data": {
      "text/plain": [
       "('./mentalbert-v1/tokenizer_config.json',\n",
       " './mentalbert-v1/special_tokens_map.json',\n",
       " './mentalbert-v1/vocab.txt',\n",
       " './mentalbert-v1/added_tokens.json',\n",
       " './mentalbert-v1/tokenizer.json')"
      ]
     },
     "execution_count": 60,
     "metadata": {},
     "output_type": "execute_result"
    }
   ],
   "source": [
    "output_dir = \"./mentalbert-v1\"\n",
    "\n",
    "trainer.save_model(output_dir)                # Saves model + config\n",
    "tokenizer.save_pretrained(output_dir)         # Saves tokenizer vocab + special tokens\n"
   ]
  },
  {
   "cell_type": "code",
   "execution_count": 61,
   "id": "47d00c97",
   "metadata": {},
   "outputs": [
    {
     "data": {
      "text/plain": [
       "{'Supportive': 0, 'Indicator': 1, 'Ideation': 2, 'Behavior': 3, 'Attempt': 4}"
      ]
     },
     "execution_count": 61,
     "metadata": {},
     "output_type": "execute_result"
    }
   ],
   "source": [
    "label_map"
   ]
  },
  {
   "cell_type": "code",
   "execution_count": null,
   "id": "dc742d60",
   "metadata": {},
   "outputs": [],
   "source": [
    "# TODO: Try a second method, maybe oversampling? Maybe after we build the full thing"
   ]
  }
 ],
 "metadata": {
  "kernelspec": {
   "display_name": "ml_dev",
   "language": "python",
   "name": "python3"
  },
  "language_info": {
   "codemirror_mode": {
    "name": "ipython",
    "version": 3
   },
   "file_extension": ".py",
   "mimetype": "text/x-python",
   "name": "python",
   "nbconvert_exporter": "python",
   "pygments_lexer": "ipython3",
   "version": "3.11.9"
  }
 },
 "nbformat": 4,
 "nbformat_minor": 5
}
