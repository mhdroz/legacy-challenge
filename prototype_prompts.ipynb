{
 "cells": [
  {
   "cell_type": "code",
   "execution_count": 4,
   "id": "b08dc505",
   "metadata": {},
   "outputs": [],
   "source": [
    "def build_prompt(user_text, risk_score:str, snippets:list[str]):\n",
    "    joined_snips = \"\\n---\\n\".join(snippets)\n",
    "    return f\"\"\"\n",
    "CONTEXT:\n",
    "Risk score: {risk_score}\n",
    "Similar conversations:\n",
    "{joined_snips}\n",
    "\n",
    "COUNSELOR QUERY:\n",
    "{user_text}\n",
    "\"\"\"\n"
   ]
  },
  {
   "cell_type": "code",
   "execution_count": 2,
   "id": "df35fffe",
   "metadata": {},
   "outputs": [],
   "source": [
    "def get_system_prompt():\n",
    "    return \"\"\"You are an expert clinical decision support system for mental health counselors working in suicide prevention. Your purpose is to provide evidence-based guidance tailored to a patient's assessed risk level and context.\n",
    "\n",
    "For each query:\n",
    "1. You will receive:\n",
    "   - A risk score (0-4) where:\n",
    "     * 0 = Supportive (Has support system)\n",
    "     * 1 = Indicator (Has risk factors) \n",
    "     * 2 = Ideation (Has suicidal thoughts)\n",
    "     * 3 = Behavior (Has taken actions toward attempt)\n",
    "     * 4 = Attempt (Has previously attempted)\n",
    "   - 3-5 examples of similar conversations from previous cases\n",
    "\n",
    "2. Analyze these inputs and provide:\n",
    "   - Key clinical considerations specific to the risk level\n",
    "   - Suggested response approaches with sample language\n",
    "   - Critical warning signs to monitor\n",
    "   - Documentation and follow-up recommendations\n",
    "\n",
    "Your guidance must be:\n",
    "- Clinically sound and evidence-based\n",
    "- Specific to the identified risk level\n",
    "- Informed by patterns in the example conversations\n",
    "- Actionable and practical for immediate clinical use\n",
    "- Supportive of clinical judgment, not prescriptive\n",
    "- Compassionate while prioritizing patient safety\n",
    "\n",
    "Remember that your guidance will support professionals making critical decisions. Balance validation of patient distress with clear safety protocols, especially at higher risk levels.\"\"\""
   ]
  },
  {
   "cell_type": "code",
   "execution_count": 41,
   "id": "1c22e512",
   "metadata": {},
   "outputs": [],
   "source": [
    "def get_system_prompt():\n",
    "    return \"\"\"You are a licensed clinical supervisor who writes concise, evidence‑based guidance for mental‑health counselors.\n",
    "\n",
    "Rules you must follow\n",
    "1. You may see a machine‑learning risk score.  **IF the confidence is ≥ 0.75 you can assume the bucket is correct; otherwise rely primarily on the conversation examples provided.**\n",
    "2. Use the retrieved “Similar Cases” passages as your evidence base.  When you borrow a concrete idea, reference it briefly (e.g., “see case #2”).\n",
    "3. Address the counselor directly (“Consider …”, “Ask …”).\n",
    "4. Output **3 bullet points, each ≤ 25 words.**  \n",
    "    - If risk is High/Critical (risk score of 3 or 4), add a final line:  \n",
    "        `EMERGENCY: escalate to crisis‑line / supervisor now.`\n",
    "    - If confidence from risk score is low (< 0.75), start your answer with the following line:\n",
    "        `WARNING: Risk score confidence is low`\n",
    "5. Indicate the risk score and confidence, as well as whether you accounted for it in your answer. Explain your reasoning\n",
    "\"\"\"\n",
    "\n",
    "def build_prompt(user_text, risk_score, confidence, snippets):\n",
    "    joined_snips = \"\\n---\\n\".join(snippets)\n",
    "    return f\"\"\"Counselor needs advice.\n",
    "\n",
    "PATIENT STATEMENT\n",
    "=================\n",
    "{user_text}\n",
    "\n",
    "MODEL RISK OUTPUT\n",
    "=================\n",
    "bucket: {risk_score}  \n",
    "confidence: {confidence:.2f}   \n",
    "\n",
    "SIMILAR CASES\n",
    "=============\n",
    "{joined_snips}\n",
    "\n",
    "Write your 3‑point response now.\n",
    "\"\"\""
   ]
  },
  {
   "cell_type": "code",
   "execution_count": 3,
   "id": "9815cbd0",
   "metadata": {},
   "outputs": [],
   "source": [
    "from openai import OpenAI\n",
    "import os\n",
    "# Try prompting openai and get a json output\n",
    "openai_client = OpenAI(api_key=os.getenv(\"OPENAI_API_KEY\"))"
   ]
  },
  {
   "cell_type": "code",
   "execution_count": 24,
   "id": "01d351f2",
   "metadata": {},
   "outputs": [],
   "source": [
    "#user_text = \"Patient says they want to end it all and feel hopeless.\"\n",
    "user_text = \"Patient says they are feeling hopeless and that there is no light at the end of the tunnel\"\n",
    "\n",
    "embed_model = \"text-embedding-3-small\"\n",
    "\n",
    "query_embeddings = openai_client.embeddings.create(input=user_text, model=embed_model).data[0].embedding"
   ]
  },
  {
   "cell_type": "code",
   "execution_count": 25,
   "id": "7b2a6ed7",
   "metadata": {},
   "outputs": [],
   "source": [
    "from chromadb import PersistentClient\n",
    "\n",
    "PERSIST_DIR = \"./data/mental_health_counseling\"\n",
    "\n",
    "chroma_client = PersistentClient(path=PERSIST_DIR)\n",
    "collection = chroma_client.get_collection(\"mental_health_counseling\")\n",
    "\n",
    "similar_docs = collection.query(query_embeddings=[query_embeddings], n_results=5)"
   ]
  },
  {
   "cell_type": "code",
   "execution_count": 26,
   "id": "9aef2f16",
   "metadata": {},
   "outputs": [],
   "source": [
    "snippets = similar_docs['documents'][0]"
   ]
  },
  {
   "cell_type": "code",
   "execution_count": 27,
   "id": "c0f7714e",
   "metadata": {},
   "outputs": [
    {
     "name": "stdout",
     "output_type": "stream",
     "text": [
      "0\n"
     ]
    }
   ],
   "source": [
    "# Don't do this one, the model is not accurate enough to estimate yet. Maybe for a version with a better model\n",
    "from transformers import AutoTokenizer, AutoModelForSequenceClassification\n",
    "import torch.nn.functional as F, torch\n",
    "\n",
    "risk_tok = AutoTokenizer.from_pretrained(\"./mentalbert-v1\")\n",
    "risk_mod = AutoModelForSequenceClassification.from_pretrained(\"./mentalbert-v1\")\n",
    "risk_mod.eval()\n",
    "\n",
    "def risk_bucket(text):\n",
    "    tok = risk_tok(text, truncation=True, padding=True, return_tensors=\"pt\")\n",
    "    with torch.no_grad():\n",
    "        p = F.softmax(risk_mod(**tok).logits, dim=1)[0]\n",
    "    return int(torch.argmax(p))\n",
    "\n",
    "risk_score = risk_bucket(user_text)\n",
    "print(risk_score)"
   ]
  },
  {
   "cell_type": "code",
   "execution_count": 29,
   "id": "50754057",
   "metadata": {},
   "outputs": [
    {
     "name": "stdout",
     "output_type": "stream",
     "text": [
      "risk score: 0, confidence: 0.22959241271018982\n"
     ]
    }
   ],
   "source": [
    "from app.model import RiskModel\n",
    "\n",
    "risk_model = RiskModel(\"./mentalbert-v1\")\n",
    "\n",
    "risk_score, confidence, _ = risk_model.score(user_text)\n",
    "print(f\"risk score: {risk_score}, confidence: {confidence}\")"
   ]
  },
  {
   "cell_type": "code",
   "execution_count": 42,
   "id": "009c7675",
   "metadata": {},
   "outputs": [],
   "source": [
    "response = openai_client.chat.completions.create(\n",
    "    model = \"gpt-4o-2024-11-20\",\n",
    "    #response_format=\"json\",\n",
    "    messages = [\n",
    "        {\"role\": \"system\", \"content\": get_system_prompt()},\n",
    "        {\"role\": \"user\", \"content\": build_prompt(user_text, risk_score, confidence, snippets)}\n",
    "    ],\n",
    "    max_tokens=1024\n",
    ")"
   ]
  },
  {
   "cell_type": "code",
   "execution_count": 43,
   "id": "1e960096",
   "metadata": {},
   "outputs": [
    {
     "name": "stdout",
     "output_type": "stream",
     "text": [
      "WARNING: Risk score confidence is low  \n",
      "\n",
      "- Validate the patient’s sense of hopelessness and normalize their emotional distress as a manageable experience with support (see cases #1 and #5).  \n",
      "- Ask about specific stressors contributing to hopelessness and if they’ve noticed changes in daily functioning or thoughts of self-harm (see case #4).  \n",
      "- Encourage exploration of professional help, emphasizing therapy and crisis hotline availability for immediate support (e.g., suicidepreventionlifeline.org; see case #3).  \n",
      "\n",
      "Risk score: 0, Confidence: 0.23. I prioritized conversation examples due to low confidence.\n"
     ]
    }
   ],
   "source": [
    "print(response.choices[0].message.content)"
   ]
  },
  {
   "cell_type": "code",
   "execution_count": null,
   "id": "323d4d09",
   "metadata": {},
   "outputs": [],
   "source": []
  }
 ],
 "metadata": {
  "kernelspec": {
   "display_name": "ml_dev",
   "language": "python",
   "name": "python3"
  },
  "language_info": {
   "codemirror_mode": {
    "name": "ipython",
    "version": 3
   },
   "file_extension": ".py",
   "mimetype": "text/x-python",
   "name": "python",
   "nbconvert_exporter": "python",
   "pygments_lexer": "ipython3",
   "version": "3.11.9"
  }
 },
 "nbformat": 4,
 "nbformat_minor": 5
}
